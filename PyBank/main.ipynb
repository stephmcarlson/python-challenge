{
 "cells": [
  {
   "cell_type": "code",
   "execution_count": 24,
   "id": "5ed11677-752c-4740-adf3-13bad5d92ca1",
   "metadata": {},
   "outputs": [],
   "source": [
    "import pandas as pd\n",
    "from pathlib import Path"
   ]
  },
  {
   "cell_type": "code",
   "execution_count": 25,
   "id": "d12e5dc1",
   "metadata": {},
   "outputs": [],
   "source": [
    "# Set file path\n",
    "file = Path(\"Resources/budget_data.csv\")\n"
   ]
  },
  {
   "cell_type": "code",
   "execution_count": 26,
   "id": "a45022be",
   "metadata": {},
   "outputs": [
    {
     "data": {
      "text/html": [
       "<div>\n",
       "<style scoped>\n",
       "    .dataframe tbody tr th:only-of-type {\n",
       "        vertical-align: middle;\n",
       "    }\n",
       "\n",
       "    .dataframe tbody tr th {\n",
       "        vertical-align: top;\n",
       "    }\n",
       "\n",
       "    .dataframe thead th {\n",
       "        text-align: right;\n",
       "    }\n",
       "</style>\n",
       "<table border=\"1\" class=\"dataframe\">\n",
       "  <thead>\n",
       "    <tr style=\"text-align: right;\">\n",
       "      <th></th>\n",
       "      <th>Date</th>\n",
       "      <th>Profit/Losses</th>\n",
       "    </tr>\n",
       "  </thead>\n",
       "  <tbody>\n",
       "    <tr>\n",
       "      <th>0</th>\n",
       "      <td>Jan-10</td>\n",
       "      <td>1088983</td>\n",
       "    </tr>\n",
       "    <tr>\n",
       "      <th>1</th>\n",
       "      <td>Feb-10</td>\n",
       "      <td>-354534</td>\n",
       "    </tr>\n",
       "    <tr>\n",
       "      <th>2</th>\n",
       "      <td>Mar-10</td>\n",
       "      <td>276622</td>\n",
       "    </tr>\n",
       "    <tr>\n",
       "      <th>3</th>\n",
       "      <td>Apr-10</td>\n",
       "      <td>-728133</td>\n",
       "    </tr>\n",
       "    <tr>\n",
       "      <th>4</th>\n",
       "      <td>May-10</td>\n",
       "      <td>852993</td>\n",
       "    </tr>\n",
       "  </tbody>\n",
       "</table>\n",
       "</div>"
      ],
      "text/plain": [
       "     Date  Profit/Losses\n",
       "0  Jan-10        1088983\n",
       "1  Feb-10        -354534\n",
       "2  Mar-10         276622\n",
       "3  Apr-10        -728133\n",
       "4  May-10         852993"
      ]
     },
     "execution_count": 26,
     "metadata": {},
     "output_type": "execute_result"
    }
   ],
   "source": [
    "# Read in CSV\n",
    "df = pd.read_csv(file)\n",
    "df.head()\n"
   ]
  },
  {
   "cell_type": "code",
   "execution_count": 27,
   "id": "88bbd2ea",
   "metadata": {},
   "outputs": [
    {
     "data": {
      "text/plain": [
       "array(['Jan-10', 'Feb-10', 'Mar-10', 'Apr-10', 'May-10', 'Jun-10',\n",
       "       'Jul-10', 'Aug-10', 'Sep-10', 'Oct-10', 'Nov-10', 'Dec-10',\n",
       "       'Jan-11', 'Feb-11', 'Mar-11', 'Apr-11', 'May-11', 'Jun-11',\n",
       "       'Jul-11', 'Aug-11', 'Sep-11', 'Oct-11', 'Nov-11', 'Dec-11',\n",
       "       'Jan-12', 'Feb-12', 'Mar-12', 'Apr-12', 'May-12', 'Jun-12',\n",
       "       'Jul-12', 'Aug-12', 'Sep-12', 'Oct-12', 'Nov-12', 'Dec-12',\n",
       "       'Jan-13', 'Feb-13', 'Mar-13', 'Apr-13', 'May-13', 'Jun-13',\n",
       "       'Jul-13', 'Aug-13', 'Sep-13', 'Oct-13', 'Nov-13', 'Dec-13',\n",
       "       'Jan-14', 'Feb-14', 'Mar-14', 'Apr-14', 'May-14', 'Jun-14',\n",
       "       'Jul-14', 'Aug-14', 'Sep-14', 'Oct-14', 'Nov-14', 'Dec-14',\n",
       "       'Jan-15', 'Feb-15', 'Mar-15', 'Apr-15', 'May-15', 'Jun-15',\n",
       "       'Jul-15', 'Aug-15', 'Sep-15', 'Oct-15', 'Nov-15', 'Dec-15',\n",
       "       'Jan-16', 'Feb-16', 'Mar-16', 'Apr-16', 'May-16', 'Jun-16',\n",
       "       'Jul-16', 'Aug-16', 'Sep-16', 'Oct-16', 'Nov-16', 'Dec-16',\n",
       "       'Jan-17', 'Feb-17'], dtype=object)"
      ]
     },
     "execution_count": 27,
     "metadata": {},
     "output_type": "execute_result"
    }
   ],
   "source": [
    "# Find unique values in the Date column\n",
    "df_unique = df[\"Date\"].unique()\n",
    "df_unique\n"
   ]
  },
  {
   "cell_type": "code",
   "execution_count": 28,
   "id": "d753ff15",
   "metadata": {},
   "outputs": [
    {
     "data": {
      "text/plain": [
       "86"
      ]
     },
     "execution_count": 28,
     "metadata": {},
     "output_type": "execute_result"
    }
   ],
   "source": [
    "# Count the values in the unique list above\n",
    "count = len(df_unique)\n",
    "count\n"
   ]
  },
  {
   "cell_type": "code",
   "execution_count": 29,
   "id": "f0dd4e0b",
   "metadata": {},
   "outputs": [
    {
     "data": {
      "text/plain": [
       "22564198"
      ]
     },
     "execution_count": 29,
     "metadata": {},
     "output_type": "execute_result"
    }
   ],
   "source": [
    "# Sum of Profit/Losses column for total net change\n",
    "df_net = df[\"Profit/Losses\"].sum()\n",
    "df_net\n"
   ]
  },
  {
   "cell_type": "code",
   "execution_count": 30,
   "id": "96a6d44b",
   "metadata": {},
   "outputs": [],
   "source": [
    "# Calculating difference of cells\n",
    "df[\"Profit Change\"] = df[\"Profit/Losses\"].diff()"
   ]
  },
  {
   "cell_type": "code",
   "execution_count": 32,
   "id": "be84100e",
   "metadata": {},
   "outputs": [
    {
     "data": {
      "text/plain": [
       "-8311.105882352942"
      ]
     },
     "execution_count": 32,
     "metadata": {},
     "output_type": "execute_result"
    }
   ],
   "source": [
    "# Changes in Profit/Losses and the Average\n",
    "df_avg = df[\"Profit Change\"].mean()\n",
    "df_avg"
   ]
  },
  {
   "cell_type": "code",
   "execution_count": 33,
   "id": "dd999e49",
   "metadata": {},
   "outputs": [
    {
     "data": {
      "text/plain": [
       "'Aug-16 1862002.0'"
      ]
     },
     "execution_count": 33,
     "metadata": {},
     "output_type": "execute_result"
    }
   ],
   "source": [
    "# Greatest Increase\n",
    "# ChatGPT\n",
    "max_month_index = df[\"Profit Change\"].idxmax()\n",
    "df_inc = df[\"Profit Change\"].max()\n",
    "\n",
    "max_month = df.iloc[max_month_index,0]\n",
    "inc_output = f\"{max_month} {df_inc}\"\n",
    "inc_output"
   ]
  },
  {
   "cell_type": "code",
   "execution_count": 34,
   "id": "5f1ac58d",
   "metadata": {},
   "outputs": [
    {
     "data": {
      "text/plain": [
       "'Feb-14 -1825558.0'"
      ]
     },
     "execution_count": 34,
     "metadata": {},
     "output_type": "execute_result"
    }
   ],
   "source": [
    "# Greatest Decrease\n",
    "#ChatGPT\n",
    "min_month_index = df[\"Profit Change\"].idxmin()\n",
    "df_dec = df[\"Profit Change\"].min()\n",
    "\n",
    "min_month = df.iloc[min_month_index,0]\n",
    "dec_output = f\"{min_month} {df_dec}\"\n",
    "dec_output"
   ]
  },
  {
   "cell_type": "code",
   "execution_count": 35,
   "id": "72a4b7c0",
   "metadata": {},
   "outputs": [],
   "source": [
    "# Create and print to file\n",
    "#ChatGPT\n",
    "analysis_path = \"analysis/analysis_output.txt\"\n",
    "data = f\"Total Months: {count}, \\n\\nTotal Sum: {df_net}, \\n\\nAvg Change: {df_avg}, \\n\\nGreatest Increase in Profit: {inc_output}, \\n\\nGreatest Decrease in Profit: {dec_output}\"\n",
    "\n",
    "with open(analysis_path, \"w\") as file:\n",
    "    file.write(data)"
   ]
  }
 ],
 "metadata": {
  "kernelspec": {
   "display_name": "Python 3 (ipykernel)",
   "language": "python",
   "name": "python3"
  },
  "language_info": {
   "codemirror_mode": {
    "name": "ipython",
    "version": 3
   },
   "file_extension": ".py",
   "mimetype": "text/x-python",
   "name": "python",
   "nbconvert_exporter": "python",
   "pygments_lexer": "ipython3",
   "version": "3.11.4"
  }
 },
 "nbformat": 4,
 "nbformat_minor": 5
}
